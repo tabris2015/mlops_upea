{
 "cells": [
  {
   "cell_type": "code",
   "execution_count": 4,
   "metadata": {},
   "outputs": [],
   "source": [
    "import openai\n",
    "from llama_index.core import VectorStoreIndex, SimpleDirectoryReader\n",
    "\n",
    "OPENAI_KEY = open(\"openai_key\").read()\n",
    "openai.api_key = OPENAI_KEY"
   ]
  },
  {
   "cell_type": "code",
   "execution_count": 5,
   "metadata": {},
   "outputs": [],
   "source": [
    "documents = SimpleDirectoryReader(\"data\").load_data()\n",
    "\n"
   ]
  },
  {
   "cell_type": "code",
   "execution_count": 10,
   "metadata": {},
   "outputs": [
    {
     "data": {
      "text/plain": [
       "'7eb90d9c-1c1f-4680-ba6f-f470729bae66'"
      ]
     },
     "execution_count": 10,
     "metadata": {},
     "output_type": "execute_result"
    }
   ],
   "source": [
    "documents[35].id_"
   ]
  },
  {
   "cell_type": "code",
   "execution_count": 11,
   "metadata": {},
   "outputs": [],
   "source": [
    "index = VectorStoreIndex.from_documents(documents)"
   ]
  },
  {
   "cell_type": "code",
   "execution_count": 14,
   "metadata": {},
   "outputs": [
    {
     "name": "stdout",
     "output_type": "stream",
     "text": [
      "En 2022, se registraron un total de 35,250 casos de embarazos adolescentes en Bolivia.\n"
     ]
    }
   ],
   "source": [
    "query_engine = index.as_query_engine()\n",
    "response = query_engine.query(\n",
    "    \"Cuantos casos de embarazo adolescente se presentaron en Bolivia en 2022\"\n",
    ")\n",
    "print(response)"
   ]
  },
  {
   "cell_type": "code",
   "execution_count": 22,
   "metadata": {},
   "outputs": [
    {
     "name": "stdout",
     "output_type": "stream",
     "text": [
      "TEXT: \n",
      " {'page_label': '33', 'file_name': 'informe_avance_bolivia.pdf', 'file_path': '/home/pepe/dev/upea/mlops_upea/5.llm/data/informe_avance_bolivia.pdf', 'file_type': 'application/pdf', 'file_size': 5326934, 'creation_date': '2024-05-25', 'last_modified_date': '2024-05-25'} \n",
      " ==================\n",
      "TEXT: \n",
      " {'page_label': '85', 'file_name': 'informe_avance_bolivia.pdf', 'file_path': '/home/pepe/dev/upea/mlops_upea/5.llm/data/informe_avance_bolivia.pdf', 'file_type': 'application/pdf', 'file_size': 5326934, 'creation_date': '2024-05-25', 'last_modified_date': '2024-05-25'} \n",
      " ==================\n"
     ]
    }
   ],
   "source": [
    "for n in response.source_nodes:\n",
    "    print(f\"TEXT: \\n {n.metadata} \\n ==================\")"
   ]
  },
  {
   "cell_type": "code",
   "execution_count": null,
   "metadata": {},
   "outputs": [],
   "source": [
    "text = \"\"\"\n",
    "Nombre producto: tetera\n",
    "Descripcion: articulo de hogar para servir te.\n",
    "Categorias: hogar, te, ....\n",
    "\n",
    "\"\"\""
   ]
  }
 ],
 "metadata": {
  "kernelspec": {
   "display_name": "mlops_upea",
   "language": "python",
   "name": "python3"
  },
  "language_info": {
   "codemirror_mode": {
    "name": "ipython",
    "version": 3
   },
   "file_extension": ".py",
   "mimetype": "text/x-python",
   "name": "python",
   "nbconvert_exporter": "python",
   "pygments_lexer": "ipython3",
   "version": "3.11.9"
  }
 },
 "nbformat": 4,
 "nbformat_minor": 2
}
