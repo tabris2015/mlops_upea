{
 "cells": [
  {
   "cell_type": "code",
   "execution_count": 1,
   "metadata": {},
   "outputs": [],
   "source": [
    "from datetime import datetime\n",
    "from stroke_models import Patient, PatientBatch\n",
    "from stroke import StrokeModel\n"
   ]
  },
  {
   "cell_type": "code",
   "execution_count": 2,
   "metadata": {},
   "outputs": [],
   "source": [
    "patient_batch = PatientBatch(\n",
    "    hospital=\"los pinos\",\n",
    "    city=\"la paz\",\n",
    "    sent_at=datetime.now(),\n",
    "    patients=[\n",
    "        Patient(\n",
    "            gender=\"Male\",\n",
    "            age=54,\n",
    "            hypertension=0,\n",
    "            heart_disease=0,\n",
    "            ever_married=\"Yes\",\n",
    "            work_type=\"Self-employed\",\n",
    "            Residence_type=\"Urban\",\n",
    "            avg_glucose_level=110.5,\n",
    "            bmi=28.6,\n",
    "            smoking_status=\"formerly smoked\"\n",
    "        ),\n",
    "    ]\n",
    ")"
   ]
  },
  {
   "cell_type": "code",
   "execution_count": 3,
   "metadata": {},
   "outputs": [],
   "source": [
    "model = StrokeModel(\"model.joblib\")"
   ]
  },
  {
   "cell_type": "code",
   "execution_count": 4,
   "metadata": {},
   "outputs": [
    {
     "data": {
      "text/plain": [
       "array([0])"
      ]
     },
     "execution_count": 4,
     "metadata": {},
     "output_type": "execute_result"
    }
   ],
   "source": [
    "model.predict_batch(patient_batch)"
   ]
  },
  {
   "cell_type": "code",
   "execution_count": 5,
   "metadata": {},
   "outputs": [
    {
     "ename": "NameError",
     "evalue": "name 'Tru' is not defined",
     "output_type": "error",
     "traceback": [
      "\u001b[0;31m---------------------------------------------------------------------------\u001b[0m",
      "\u001b[0;31mNameError\u001b[0m                                 Traceback (most recent call last)",
      "Cell \u001b[0;32mIn[5], line 1\u001b[0m\n\u001b[0;32m----> 1\u001b[0m \u001b[43mmodel\u001b[49m\u001b[38;5;241;43m.\u001b[39;49m\u001b[43mpredict_single\u001b[49m\u001b[43m(\u001b[49m\u001b[43mpatient_batch\u001b[49m\u001b[38;5;241;43m.\u001b[39;49m\u001b[43mpatients\u001b[49m\u001b[43m[\u001b[49m\u001b[38;5;241;43m0\u001b[39;49m\u001b[43m]\u001b[49m\u001b[43m)\u001b[49m\n",
      "File \u001b[0;32m~/dev/upea/mlops_upea/2.stroke/stroke.py:65\u001b[0m, in \u001b[0;36mStrokeModel.predict_single\u001b[0;34m(self, patient)\u001b[0m\n\u001b[1;32m     64\u001b[0m \u001b[38;5;28;01mdef\u001b[39;00m \u001b[38;5;21mpredict_single\u001b[39m(\u001b[38;5;28mself\u001b[39m, patient: Patient):\n\u001b[0;32m---> 65\u001b[0m     prediction \u001b[38;5;241m=\u001b[39m \u001b[38;5;28mself\u001b[39m\u001b[38;5;241m.\u001b[39mmodel\u001b[38;5;241m.\u001b[39mpredict(\u001b[38;5;28;43mself\u001b[39;49m\u001b[38;5;241;43m.\u001b[39;49m\u001b[43mpreprocess_patient\u001b[49m\u001b[43m(\u001b[49m\u001b[43mpatient\u001b[49m\u001b[43m)\u001b[49m)\n\u001b[1;32m     66\u001b[0m     \u001b[38;5;28;01mreturn\u001b[39;00m prediction\n",
      "File \u001b[0;32m~/dev/upea/mlops_upea/2.stroke/stroke.py:58\u001b[0m, in \u001b[0;36mStrokeModel.preprocess_patient\u001b[0;34m(self, patient)\u001b[0m\n\u001b[1;32m     56\u001b[0m \u001b[38;5;28;01mdef\u001b[39;00m \u001b[38;5;21mpreprocess_patient\u001b[39m(\u001b[38;5;28mself\u001b[39m, patient: Patient):\n\u001b[0;32m---> 58\u001b[0m     \u001b[38;5;28;01mreturn\u001b[39;00m \u001b[38;5;28mself\u001b[39m\u001b[38;5;241m.\u001b[39mpreprocess_patients([patient\u001b[38;5;241m.\u001b[39mmodel_dump(by_alias\u001b[38;5;241m=\u001b[39m\u001b[43mTru\u001b[49m)])\n",
      "\u001b[0;31mNameError\u001b[0m: name 'Tru' is not defined"
     ]
    }
   ],
   "source": [
    "model.predict_single(patient_batch.patients[0])"
   ]
  },
  {
   "cell_type": "code",
   "execution_count": null,
   "metadata": {},
   "outputs": [],
   "source": []
  }
 ],
 "metadata": {
  "kernelspec": {
   "display_name": "mlops_upea",
   "language": "python",
   "name": "python3"
  },
  "language_info": {
   "codemirror_mode": {
    "name": "ipython",
    "version": 3
   },
   "file_extension": ".py",
   "mimetype": "text/x-python",
   "name": "python",
   "nbconvert_exporter": "python",
   "pygments_lexer": "ipython3",
   "version": "3.11.9"
  }
 },
 "nbformat": 4,
 "nbformat_minor": 2
}
